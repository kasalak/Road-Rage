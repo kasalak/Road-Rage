{
 "cells": [
  {
   "cell_type": "code",
   "execution_count": 18,
   "metadata": {
    "collapsed": false
   },
   "outputs": [
    {
     "ename": "ImportError",
     "evalue": "No module named 'matplotlib'",
     "output_type": "error",
     "traceback": [
      "\u001b[0;31m---------------------------------------------------------------------------\u001b[0m",
      "\u001b[0;31mImportError\u001b[0m                               Traceback (most recent call last)",
      "\u001b[0;32m<ipython-input-18-c7b536ed92bc>\u001b[0m in \u001b[0;36m<module>\u001b[0;34m()\u001b[0m\n\u001b[1;32m      1\u001b[0m \u001b[0;32mimport\u001b[0m \u001b[0mnumpy\u001b[0m \u001b[0;32mas\u001b[0m \u001b[0mnp\u001b[0m\u001b[0;34m\u001b[0m\u001b[0m\n\u001b[1;32m      2\u001b[0m \u001b[0;32mimport\u001b[0m \u001b[0mrandom\u001b[0m\u001b[0;34m\u001b[0m\u001b[0m\n\u001b[0;32m----> 3\u001b[0;31m \u001b[0;32mimport\u001b[0m \u001b[0mmatplotlib\u001b[0m \u001b[0;32mas\u001b[0m \u001b[0mplt\u001b[0m\u001b[0;34m\u001b[0m\u001b[0m\n\u001b[0m",
      "\u001b[0;31mImportError\u001b[0m: No module named 'matplotlib'"
     ]
    }
   ],
   "source": [
    "import numpy as np\n",
    "import random\n",
    "import matplotlib as plt"
   ]
  },
  {
   "cell_type": "code",
   "execution_count": 29,
   "metadata": {
    "collapsed": false
   },
   "outputs": [
    {
     "data": {
      "text/plain": [
       "33.333333333333336"
      ]
     },
     "execution_count": 29,
     "metadata": {},
     "output_type": "execute_result"
    }
   ],
   "source": [
    "120*1000/60/60"
   ]
  },
  {
   "cell_type": "code",
   "execution_count": 19,
   "metadata": {
    "collapsed": false
   },
   "outputs": [
    {
     "ename": "SyntaxError",
     "evalue": "unexpected EOF while parsing (<ipython-input-19-991a13351e28>, line 12)",
     "output_type": "error",
     "traceback": [
      "\u001b[0;36m  File \u001b[0;32m\"<ipython-input-19-991a13351e28>\"\u001b[0;36m, line \u001b[0;32m12\u001b[0m\n\u001b[0;31m    \u001b[0m\n\u001b[0m    ^\u001b[0m\n\u001b[0;31mSyntaxError\u001b[0m\u001b[0;31m:\u001b[0m unexpected EOF while parsing\n"
     ]
    }
   ],
   "source": [
    "class Driver:\n",
    "    \"\"\"\n",
    "    Responsibilities:\n",
    "    - drive on the road 1km long, exit at end\n",
    "    - attempt to reach 33 m/s, by accelerating 2m/s if there is room to do so\n",
    "    - 10% of cars \n",
    "    - stay at least _ m away from the vehicle in front, depending on speed _\n",
    "    - stop if about to hit another car (car in front can keep it moving)\n",
    "    - max speed = 33.3, round down to 33. \n",
    "    - \"\"\"\n",
    "\n",
    "    def __init__(self):\n",
    "        self.speed = 'speed'\n",
    "        self.acceleration = 'acceleration'\n",
    "        \n",
    "        "
   ]
  },
  {
   "cell_type": "code",
   "execution_count": 27,
   "metadata": {
    "collapsed": false
   },
   "outputs": [
    {
     "name": "stdout",
     "output_type": "stream",
     "text": [
      "[8.7703304259150183, 75.484904601224812, 146.73183771538322, 155.58564481512505, 162.85495253386728, 300.08851497985722, 303.71702701938506, 338.9534725871527, 341.8899865164272, 416.54624393586647, 468.4968315573289, 474.00028043561537, 498.9208110536332, 514.75619805389726, 543.16401546364273, 555.09451325247346, 579.7101427623362, 714.69389655370162, 739.96655219154968, 746.7235261768692, 752.64937507886384, 782.41282138990027, 826.18228160805529, 861.72323700161087, 869.57878310131969, 896.42037878968438, 900.33891170511765, 928.64436578690049, 947.21982027707963, 974.65777536491316]\n"
     ]
    }
   ],
   "source": [
    "class Simulation: \n",
    "    \"\"\"\n",
    "    Responsibilities:\n",
    "    - have 30 cars on road at all times\n",
    "    - cars must start out evenly spaced over 1km\n",
    "    -cars are 5m long\n",
    "    -\"\"\"\n",
    "    \n",
    "    starting_car_position = sorted(np.random.uniform(0, 1000, 30))\n",
    "    print(starting_car_position)\n"
   ]
  },
  {
   "cell_type": "code",
   "execution_count": 23,
   "metadata": {
    "collapsed": false
   },
   "outputs": [
    {
     "name": "stdout",
     "output_type": "stream",
     "text": [
      "[14.80605078237951, 18.347184472543798, 23.837364839104257, 41.186771546480983, 89.887770967683295, 121.08106023957987, 121.48659372226145, 125.36206654171022, 126.84233070761385, 133.18019222187294, 145.46414673310937, 156.68489446849298, 171.98861984872727, 186.15353270707735, 187.70606351679453, 259.5679213222989, 309.94049229054622, 381.65067015989075, 430.21979895166663, 645.08234229695483, 648.02720613084659, 648.14816871616006, 663.53012256127431, 672.588505019026, 673.61883327491171, 776.86346249736528, 812.90164550047302, 869.47205412682308, 880.65616063395578, 918.67138808241498]\n"
     ]
    }
   ],
   "source": [
    "x = np.random.uniform(0,1000, 30)\n",
    "print(sorted(x))"
   ]
  },
  {
   "cell_type": "code",
   "execution_count": null,
   "metadata": {
    "collapsed": true
   },
   "outputs": [],
   "source": []
  }
 ],
 "metadata": {
  "kernelspec": {
   "display_name": "Python 3",
   "language": "python",
   "name": "python3"
  },
  "language_info": {
   "codemirror_mode": {
    "name": "ipython",
    "version": 3
   },
   "file_extension": ".py",
   "mimetype": "text/x-python",
   "name": "python",
   "nbconvert_exporter": "python",
   "pygments_lexer": "ipython3",
   "version": "3.4.3"
  }
 },
 "nbformat": 4,
 "nbformat_minor": 0
}
