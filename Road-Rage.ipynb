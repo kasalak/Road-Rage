{
 "cells": [
  {
   "cell_type": "code",
   "execution_count": null,
   "metadata": {
    "collapsed": true
   },
   "outputs": [],
   "source": [
    "class Driver:\n",
    "    \"\"\"\n",
    "    Responsibilities:\n",
    "    - drive on the road 1km long, exit at end\n",
    "    - attempt to reach 120km/hr, by accelerating 2m/s if there is room to do so\n",
    "    - 10% of cars \n",
    "    - stay at least _ m away from the vehicle in front, depending on speed _\n",
    "    - stop if about to hit another car (car in front can keep it moving)\n",
    "    - \"\"\"\n",
    "\n"
   ]
  }
 ],
 "metadata": {
  "kernelspec": {
   "display_name": "Python 3",
   "language": "python",
   "name": "python3"
  },
  "language_info": {
   "codemirror_mode": {
    "name": "ipython",
    "version": 3
   },
   "file_extension": ".py",
   "mimetype": "text/x-python",
   "name": "python",
   "nbconvert_exporter": "python",
   "pygments_lexer": "ipython3",
   "version": "3.4.3"
  }
 },
 "nbformat": 4,
 "nbformat_minor": 0
}
