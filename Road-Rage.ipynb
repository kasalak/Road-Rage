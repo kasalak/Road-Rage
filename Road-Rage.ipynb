{
 "cells": [
  {
   "cell_type": "code",
   "execution_count": 26,
   "metadata": {
    "collapsed": false
   },
   "outputs": [],
   "source": [
    "import numpy as np\n",
    "import random\n",
    "import matplotlib.pyplot as plt\n",
    "import math\n"
   ]
  },
  {
   "cell_type": "code",
   "execution_count": 27,
   "metadata": {
    "collapsed": false
   },
   "outputs": [
    {
     "data": {
      "text/plain": [
       "33.333333333333336"
      ]
     },
     "execution_count": 27,
     "metadata": {},
     "output_type": "execute_result"
    }
   ],
   "source": [
    "120*1000/60/60"
   ]
  },
  {
   "cell_type": "code",
   "execution_count": 42,
   "metadata": {
    "collapsed": false
   },
   "outputs": [
    {
     "ename": "SyntaxError",
     "evalue": "invalid syntax (<ipython-input-42-081794333137>, line 34)",
     "output_type": "error",
     "traceback": [
      "\u001b[0;36m  File \u001b[0;32m\"<ipython-input-42-081794333137>\"\u001b[0;36m, line \u001b[0;32m34\u001b[0m\n\u001b[0;31m    if\u001b[0m\n\u001b[0m       ^\u001b[0m\n\u001b[0;31mSyntaxError\u001b[0m\u001b[0;31m:\u001b[0m invalid syntax\n"
     ]
    }
   ],
   "source": [
    "class Car:\n",
    "    \"\"\"\n",
    "    Responsibilities:\n",
    "    - drive on the road 1km long, exit at end\n",
    "    - cars are 5m long\n",
    "    - attempt to reach 33 m/s, by accelerating 2m/s if there is room to do so\n",
    "    - 10% of cars slow down (slow_down = .1)\n",
    "    - stay at least _ m away from the vehicle in front, depending on speed _\n",
    "    - stop if about to hit another car (stay at least 1m away)\n",
    "    - max speed = 33.3, round down to 33. \n",
    "    - \"\"\"\n",
    "\n",
    "    def __init__(self, length = 5, current_speed = 15, acceleration, slow_down = .1, max_speed = 33, road_position, min_space_between_cars = 1):\n",
    "        self.cs = current_speed\n",
    "        self.length = length\n",
    "        self.acceleration = acceleration\n",
    "        self.sdc = slow_down_chance\n",
    "        self.ms = max_speed\n",
    "        self.rp = road_position\n",
    "        self.msbc = min_space_between_cars\n",
    "        \n",
    "    def keeping_car_on_road(self):\n",
    "        self.rp += self.cs\n",
    "        if self.rp > 1000:\n",
    "            self.rp = (self.rp - 1000)\n",
    "        return self.rp\n",
    "    \n",
    "        \n",
    "    def change_speed(self):\n",
    "        chance = random.random()\n",
    "        if chance < slow_down:\n",
    "            self.cs -= 2\n",
    "        else:\n",
    "            if \n",
    "class Road:\n",
    "    \"\"\"\n",
    "    Responsibilities:\n",
    "    - have thirty cars on the road at all times\n",
    "    - length of 1000m \n",
    "    - \"\"\"\n",
    "    \n",
    "    def __init__(self, length = 1000):\n",
    "        \n",
    "        \n",
    "    def initial_car_placement(self):\n",
    "        place_car \n",
    "        \n",
    "    def change_speed(self):\n",
    "        if random.random() < slow_down:\n",
    "            self.cs -= 2\n",
    "            \n",
    "        "
   ]
  },
  {
   "cell_type": "code",
   "execution_count": null,
   "metadata": {
    "collapsed": false
   },
   "outputs": [],
   "source": [
    "class Simulation: \n",
    "    \"\"\"\n",
    "    Responsibilities:\n",
    "    - Create Driver objects\n",
    "    - \n",
    "    - cars must start out evenly spaced over 1km\n",
    "    -cars are 5m long\n",
    "    -\"\"\"\n",
    "    \n",
    "    starting_car_position = 0\n",
    "    \n"
   ]
  },
  {
   "cell_type": "code",
   "execution_count": 32,
   "metadata": {
    "collapsed": false
   },
   "outputs": [
    {
     "data": {
      "text/plain": [
       "33"
      ]
     },
     "execution_count": 32,
     "metadata": {},
     "output_type": "execute_result"
    }
   ],
   "source": [
    "round(1000/30)"
   ]
  },
  {
   "cell_type": "code",
   "execution_count": 34,
   "metadata": {
    "collapsed": false
   },
   "outputs": [
    {
     "data": {
      "text/plain": [
       "0.775105634806705"
      ]
     },
     "execution_count": 34,
     "metadata": {},
     "output_type": "execute_result"
    }
   ],
   "source": [
    "random.random()"
   ]
  },
  {
   "cell_type": "code",
   "execution_count": null,
   "metadata": {
    "collapsed": true
   },
   "outputs": [],
   "source": []
  }
 ],
 "metadata": {
  "kernelspec": {
   "display_name": "Python 3",
   "language": "python",
   "name": "python3"
  },
  "language_info": {
   "codemirror_mode": {
    "name": "ipython",
    "version": 3
   },
   "file_extension": ".py",
   "mimetype": "text/x-python",
   "name": "python",
   "nbconvert_exporter": "python",
   "pygments_lexer": "ipython3",
   "version": "3.4.3"
  }
 },
 "nbformat": 4,
 "nbformat_minor": 0
}
